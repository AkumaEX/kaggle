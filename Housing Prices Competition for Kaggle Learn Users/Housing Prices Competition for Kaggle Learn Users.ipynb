{
 "cells": [
  {
   "cell_type": "markdown",
   "id": "d0e34d49",
   "metadata": {},
   "source": [
    "# Housing Prices Competition for Kaggle Learn Users\n",
    "\n",
    "Apply what you learned in the Machine Learning course on Kaggle Learn alongside others in the course"
   ]
  },
  {
   "cell_type": "markdown",
   "id": "0e056756",
   "metadata": {},
   "source": [
    "---\n",
    "<a name=\"index\"></a>\n",
    "\n",
    "## Índice\n",
    "\n",
    "1. [Bibliotecas e Módulos](#imports)\n",
    "2. [Preparação e Visualização](#loading)\n",
    "3. [Tratamentos e Transformações](#cleaning)\n",
    "4. [Treinamentos e Validações](#training)\n",
    "5. [Resultados e Conclusão](#results)"
   ]
  },
  {
   "cell_type": "markdown",
   "id": "a9201646",
   "metadata": {},
   "source": [
    "---\n",
    "<a name=\"imports\"></a>([Voltar ao Índice](#index))\n",
    "\n",
    "## 1. Bibliotecas e Módulos"
   ]
  },
  {
   "cell_type": "markdown",
   "id": "3eabdbfc",
   "metadata": {},
   "source": [
    "### 1.1 Bibliotecas externas\n",
    "\n",
    "Instalações do gerenciador de pacotes [Mamba](https://mamba.readthedocs.io) e das bibliotecas [XGBoost](https://xgboost.readthedocs.io) (de acordo com a documentação do [Jupyter Docker Stacks](https://jupyter-docker-stacks.readthedocs.io/en/latest/using/recipes.html#xgboost)) e [SciKeras](https://www.adriangb.com/scikeras) (para o uso do [Keras](https://keras.io) com [scikit-learn](https://scikit-learn.org))."
   ]
  },
  {
   "cell_type": "code",
   "execution_count": 1,
   "id": "19cc5b02",
   "metadata": {},
   "outputs": [
    {
     "name": "stdout",
     "output_type": "stream",
     "text": [
      "\r\n",
      "                  __    __    __    __\r\n",
      "                 /  \\  /  \\  /  \\  /  \\\r\n",
      "                /    \\/    \\/    \\/    \\\r\n",
      "███████████████/  /██/  /██/  /██/  /████████████████████████\r\n",
      "              /  / \\   / \\   / \\   / \\  \\____\r\n",
      "             /  /   \\_/   \\_/   \\_/   \\    o \\__,\r\n",
      "            / _/                       \\_____/  `\r\n",
      "            |/\r\n",
      "        ███╗   ███╗ █████╗ ███╗   ███╗██████╗  █████╗\r\n",
      "        ████╗ ████║██╔══██╗████╗ ████║██╔══██╗██╔══██╗\r\n",
      "        ██╔████╔██║███████║██╔████╔██║██████╔╝███████║\r\n",
      "        ██║╚██╔╝██║██╔══██║██║╚██╔╝██║██╔══██╗██╔══██║\r\n",
      "        ██║ ╚═╝ ██║██║  ██║██║ ╚═╝ ██║██████╔╝██║  ██║\r\n",
      "        ╚═╝     ╚═╝╚═╝  ╚═╝╚═╝     ╚═╝╚═════╝ ╚═╝  ╚═╝\r\n",
      "\r\n",
      "        mamba (0.24.0) supported by @QuantStack\r\n",
      "\r\n",
      "        GitHub:  https://github.com/mamba-org/mamba\r\n",
      "        Twitter: https://twitter.com/QuantStack\r\n",
      "\r\n",
      "█████████████████████████████████████████████████████████████\r\n",
      "\r\n",
      "Will remove 1 package cache(s).\r\n"
     ]
    }
   ],
   "source": [
    "!mamba install --quiet --yes gcc && \\\n",
    "    mamba clean --all -f -y && \\\n",
    "    fix-permissions \"${CONDA_DIR}\" && \\\n",
    "    fix-permissions \"/home/${NB_USER}\"\n",
    "\n",
    "!pip install --quiet --no-cache-dir xgboost && \\\n",
    "    fix-permissions \"${CONDA_DIR}\" && \\\n",
    "    fix-permissions \"/home/${NB_USER}\"\n",
    "\n",
    "!pip install --quiet --no-cache-dir scikeras[tensorflow]"
   ]
  },
  {
   "cell_type": "markdown",
   "id": "608105e1",
   "metadata": {},
   "source": [
    "### 1.2 Módulos\n",
    "\n",
    "Todos os módulos (exceto XGBRegressor da bilbioteca XGBoost e KerasRegressor da biblioteca SciKeras) estão disponíveis usando a imagem Docker [jupyter/tensorflow-notebook](https://hub.docker.com/r/jupyter/tensorflow-notebook)."
   ]
  },
  {
   "cell_type": "code",
   "execution_count": 2,
   "id": "3226b4c4",
   "metadata": {},
   "outputs": [],
   "source": [
    "import matplotlib.pyplot as plt\n",
    "import pandas as pd\n",
    "from sklearn.pipeline import make_pipeline\n",
    "from sklearn.compose import make_column_transformer\n",
    "from sklearn.impute import SimpleImputer\n",
    "from sklearn.preprocessing import StandardScaler\n",
    "from sklearn.preprocessing import OneHotEncoder\n",
    "from sklearn.model_selection import train_test_split\n",
    "from sklearn.model_selection import GridSearchCV\n",
    "from sklearn.ensemble import RandomForestRegressor\n",
    "from sklearn.ensemble import GradientBoostingRegressor\n",
    "from sklearn.ensemble import VotingRegressor\n",
    "from xgboost.sklearn import XGBRegressor\n",
    "from tensorflow.keras import Sequential\n",
    "from tensorflow.keras.layers import InputLayer\n",
    "from tensorflow.keras.layers import Dense\n",
    "from tensorflow.keras.callbacks import EarlyStopping\n",
    "from scikeras.wrappers import KerasRegressor"
   ]
  },
  {
   "cell_type": "markdown",
   "id": "0eeee541",
   "metadata": {},
   "source": [
    "---\n",
    "<a name=\"loading\"></a>([Voltar ao Índice](#index))\n",
    "\n",
    "## 2. Preparação  e Visualização"
   ]
  },
  {
   "cell_type": "markdown",
   "id": "edff0edc",
   "metadata": {},
   "source": [
    "### 2.1 Importando *DataFrames* \n",
    "\n",
    "`train_data` é o *DataFrame* para treinamento.\n",
    "\n",
    "`test_data` é o *DataFrame* para predição da solução.\n",
    "\n",
    "`submission` é o *DataFrame* para o envio da solução."
   ]
  },
  {
   "cell_type": "code",
   "execution_count": 3,
   "id": "b0171816",
   "metadata": {},
   "outputs": [
    {
     "name": "stdout",
     "output_type": "stream",
     "text": [
      "<class 'pandas.core.frame.DataFrame'>\n",
      "Int64Index: 1460 entries, 1 to 1460\n",
      "Data columns (total 80 columns):\n",
      " #   Column         Non-Null Count  Dtype  \n",
      "---  ------         --------------  -----  \n",
      " 0   MSSubClass     1460 non-null   int64  \n",
      " 1   MSZoning       1460 non-null   object \n",
      " 2   LotFrontage    1201 non-null   float64\n",
      " 3   LotArea        1460 non-null   int64  \n",
      " 4   Street         1460 non-null   object \n",
      " 5   Alley          91 non-null     object \n",
      " 6   LotShape       1460 non-null   object \n",
      " 7   LandContour    1460 non-null   object \n",
      " 8   Utilities      1460 non-null   object \n",
      " 9   LotConfig      1460 non-null   object \n",
      " 10  LandSlope      1460 non-null   object \n",
      " 11  Neighborhood   1460 non-null   object \n",
      " 12  Condition1     1460 non-null   object \n",
      " 13  Condition2     1460 non-null   object \n",
      " 14  BldgType       1460 non-null   object \n",
      " 15  HouseStyle     1460 non-null   object \n",
      " 16  OverallQual    1460 non-null   int64  \n",
      " 17  OverallCond    1460 non-null   int64  \n",
      " 18  YearBuilt      1460 non-null   int64  \n",
      " 19  YearRemodAdd   1460 non-null   int64  \n",
      " 20  RoofStyle      1460 non-null   object \n",
      " 21  RoofMatl       1460 non-null   object \n",
      " 22  Exterior1st    1460 non-null   object \n",
      " 23  Exterior2nd    1460 non-null   object \n",
      " 24  MasVnrType     1452 non-null   object \n",
      " 25  MasVnrArea     1452 non-null   float64\n",
      " 26  ExterQual      1460 non-null   object \n",
      " 27  ExterCond      1460 non-null   object \n",
      " 28  Foundation     1460 non-null   object \n",
      " 29  BsmtQual       1423 non-null   object \n",
      " 30  BsmtCond       1423 non-null   object \n",
      " 31  BsmtExposure   1422 non-null   object \n",
      " 32  BsmtFinType1   1423 non-null   object \n",
      " 33  BsmtFinSF1     1460 non-null   int64  \n",
      " 34  BsmtFinType2   1422 non-null   object \n",
      " 35  BsmtFinSF2     1460 non-null   int64  \n",
      " 36  BsmtUnfSF      1460 non-null   int64  \n",
      " 37  TotalBsmtSF    1460 non-null   int64  \n",
      " 38  Heating        1460 non-null   object \n",
      " 39  HeatingQC      1460 non-null   object \n",
      " 40  CentralAir     1460 non-null   object \n",
      " 41  Electrical     1459 non-null   object \n",
      " 42  1stFlrSF       1460 non-null   int64  \n",
      " 43  2ndFlrSF       1460 non-null   int64  \n",
      " 44  LowQualFinSF   1460 non-null   int64  \n",
      " 45  GrLivArea      1460 non-null   int64  \n",
      " 46  BsmtFullBath   1460 non-null   int64  \n",
      " 47  BsmtHalfBath   1460 non-null   int64  \n",
      " 48  FullBath       1460 non-null   int64  \n",
      " 49  HalfBath       1460 non-null   int64  \n",
      " 50  BedroomAbvGr   1460 non-null   int64  \n",
      " 51  KitchenAbvGr   1460 non-null   int64  \n",
      " 52  KitchenQual    1460 non-null   object \n",
      " 53  TotRmsAbvGrd   1460 non-null   int64  \n",
      " 54  Functional     1460 non-null   object \n",
      " 55  Fireplaces     1460 non-null   int64  \n",
      " 56  FireplaceQu    770 non-null    object \n",
      " 57  GarageType     1379 non-null   object \n",
      " 58  GarageYrBlt    1379 non-null   float64\n",
      " 59  GarageFinish   1379 non-null   object \n",
      " 60  GarageCars     1460 non-null   int64  \n",
      " 61  GarageArea     1460 non-null   int64  \n",
      " 62  GarageQual     1379 non-null   object \n",
      " 63  GarageCond     1379 non-null   object \n",
      " 64  PavedDrive     1460 non-null   object \n",
      " 65  WoodDeckSF     1460 non-null   int64  \n",
      " 66  OpenPorchSF    1460 non-null   int64  \n",
      " 67  EnclosedPorch  1460 non-null   int64  \n",
      " 68  3SsnPorch      1460 non-null   int64  \n",
      " 69  ScreenPorch    1460 non-null   int64  \n",
      " 70  PoolArea       1460 non-null   int64  \n",
      " 71  PoolQC         7 non-null      object \n",
      " 72  Fence          281 non-null    object \n",
      " 73  MiscFeature    54 non-null     object \n",
      " 74  MiscVal        1460 non-null   int64  \n",
      " 75  MoSold         1460 non-null   int64  \n",
      " 76  YrSold         1460 non-null   int64  \n",
      " 77  SaleType       1460 non-null   object \n",
      " 78  SaleCondition  1460 non-null   object \n",
      " 79  SalePrice      1460 non-null   int64  \n",
      "dtypes: float64(3), int64(34), object(43)\n",
      "memory usage: 923.9+ KB\n"
     ]
    }
   ],
   "source": [
    "train_data = pd.read_csv('data/train.csv', index_col='Id')\n",
    "test_data = pd.read_csv('data/test.csv', index_col='Id')\n",
    "submission = pd.read_csv('data/sample_submission.csv')\n",
    "\n",
    "train_data.info()"
   ]
  },
  {
   "cell_type": "markdown",
   "id": "6572adad",
   "metadata": {},
   "source": [
    "### 2.2 Quantidade de dados dos atributos\n",
    "\n",
    "Visualização da quantidade de dados em cada atributo. A linha vermelha representa 80% do total dos dados."
   ]
  },
  {
   "cell_type": "code",
   "execution_count": 4,
   "id": "8234ee92",
   "metadata": {},
   "outputs": [
    {
     "data": {
      "text/plain": [
       "<matplotlib.lines.Line2D at 0x7ff005ce7100>"
      ]
     },
     "execution_count": 4,
     "metadata": {},
     "output_type": "execute_result"
    },
    {
     "data": {
      "image/png": "[encoded data removed]",
      "text/plain": [
       "<Figure size 360x1440 with 1 Axes>"
      ]
     },
     "metadata": {
      "needs_background": "light"
     },
     "output_type": "display_data"
    }
   ],
   "source": [
    "plt.figure(figsize=(5, 20))\n",
    "train_data.count().plot.barh()\n",
    "plt.axvline(x=(len(train_data) * 0.8), color='red')"
   ]
  },
  {
   "cell_type": "markdown",
   "id": "385b1a78",
   "metadata": {},
   "source": [
    "### 2.3 Atributos categóricos e numéricos\n",
    "\n",
    "Lista dos atributos categóricos `cat_features` e numéricos `num_features` de acordo com a descrição dos dados em `data_description.txt`."
   ]
  },
  {
   "cell_type": "code",
   "execution_count": 5,
   "id": "357c8727",
   "metadata": {},
   "outputs": [],
   "source": [
    "cat_features = ['MSSubClass',\n",
    "                'MSZoning',\n",
    "                'Street',\n",
    "                'Alley',\n",
    "                'LotShape',\n",
    "                'LandContour',\n",
    "                'Utilities',\n",
    "                'LotConfig',\n",
    "                'LandSlope',\n",
    "                'Neighborhood',\n",
    "                'Condition1',\n",
    "                'Condition2',\n",
    "                'BldgType',\n",
    "                'HouseStyle',\n",
    "                'RoofStyle',\n",
    "                'RoofMatl',\n",
    "                'Exterior1st',\n",
    "                'Exterior2nd',\n",
    "                'MasVnrType',\n",
    "                'ExterQual',\n",
    "                'ExterCond',\n",
    "                'Foundation',\n",
    "                'BsmtQual',\n",
    "                'BsmtCond',\n",
    "                'BsmtExposure',\n",
    "                'BsmtFinType1',\n",
    "                'BsmtFinType2',\n",
    "                'Heating',\n",
    "                'HeatingQC',\n",
    "                'CentralAir',\n",
    "                'Electrical',\n",
    "                'KitchenQual',\n",
    "                'Functional',\n",
    "                'FireplaceQu',\n",
    "                'GarageType',\n",
    "                'GarageFinish',\n",
    "                'GarageQual',\n",
    "                'GarageCond',\n",
    "                'PavedDrive',\n",
    "                'PoolQC',\n",
    "                'Fence',\n",
    "                'MiscFeature',\n",
    "                'MoSold',\n",
    "                'SaleType',\n",
    "                'SaleCondition',\n",
    "                'SalesPrice'\n",
    "               ]\n",
    "\n",
    "num_features = ['LotFrontage',\n",
    "                'LotArea',\n",
    "                'OverallQual',\n",
    "                'OverallCond',\n",
    "                'YearBuilt',\n",
    "                'YearRemodAdd',\n",
    "                'MasVnrArea',\n",
    "                'BsmtFinSF1',\n",
    "                'BsmtFinSF2',\n",
    "                'BsmtUnfSF',\n",
    "                'TotalBsmtSF',\n",
    "                '1stFlrSF',\n",
    "                '2ndFlrSF',\n",
    "                'LowQualFinSF',\n",
    "                'GrLivArea',\n",
    "                'BsmtFullBath',\n",
    "                'BsmtHalfBath',\n",
    "                'FullBath',\n",
    "                'HalfBath',\n",
    "                'BedroomAbvGr',\n",
    "                'KitchenAbvGr',\n",
    "                'TotRmsAbvGrd',\n",
    "                'Fireplaces',\n",
    "                'GarageYrBlt',\n",
    "                'GarageCars',\n",
    "                'GarageArea',\n",
    "                'WoodDeckSF',\n",
    "                'OpenPorchSF',\n",
    "                'EnclosedPorch',\n",
    "                '3SsnPorch',\n",
    "                'ScreenPorch',\n",
    "                'PoolArea',\n",
    "                'MiscVal',\n",
    "                'YrSold'\n",
    "               ]"
   ]
  },
  {
   "cell_type": "markdown",
   "id": "3dc334cb",
   "metadata": {},
   "source": [
    "### 2.4 Remoção das amostras\n",
    "\n",
    "Remoção das amostras com dados ausentes no *Target*. \n",
    "\n",
    "`y_train` é uma *Series* da *Target* de treinamento, separada do *DataFrame* de treinamento."
   ]
  },
  {
   "cell_type": "code",
   "execution_count": 6,
   "id": "a825013e",
   "metadata": {},
   "outputs": [],
   "source": [
    "train_data.dropna(subset='SalePrice', inplace=True)\n",
    "y_train = train_data.pop('SalePrice')"
   ]
  },
  {
   "cell_type": "markdown",
   "id": "6f51a2df",
   "metadata": {},
   "source": [
    "### 2.5 Remoção dos atributos\n",
    "\n",
    "Remoção dos atributos com a quantidade de dados `thresh` abaixo de 80% e atualização das listas dos atributos categóricos e numéricos."
   ]
  },
  {
   "cell_type": "code",
   "execution_count": 7,
   "id": "100baa6d",
   "metadata": {},
   "outputs": [],
   "source": [
    "thresh = int(len(train_data) * 0.8)\n",
    "train_data = train_data.dropna(axis=1, thresh=thresh)\n",
    "test_data = test_data[train_data.columns]\n",
    "\n",
    "cat_features = [feature for feature in cat_features if feature in train_data.columns]\n",
    "num_features = [feature for feature in num_features if feature in train_data.columns]"
   ]
  },
  {
   "cell_type": "markdown",
   "id": "aa1f8c0b",
   "metadata": {},
   "source": [
    "---\n",
    "<a name=\"cleaning\"></a>([Voltar ao Índice](#index))\n",
    "\n",
    "## 3. Tratamentos e Transformações"
   ]
  },
  {
   "cell_type": "markdown",
   "id": "6ef75386",
   "metadata": {},
   "source": [
    "### 3.1 Transformadores\n",
    "\n",
    "`num_pipeline` são os passos para transformação dos atributos numéricos. Dados ausentes são preenchidos com o valor médio do atributo, e então cada atributo é padronizado com média zero e variância unitária.\n",
    "\n",
    "`cat_pipeline` são os passos para transformação dos atributos categóricos. Dados ausentes são preenchidos com a categoria mais frequente do atributo, e então cada atributo é transformado em colunas binárias.\n",
    "\n",
    "`col_transformer` é o transformador das colunas dos *DataFrames*."
   ]
  },
  {
   "cell_type": "code",
   "execution_count": 8,
   "id": "f7ec22fd",
   "metadata": {},
   "outputs": [],
   "source": [
    "num_pipeline = make_pipeline(\n",
    "    SimpleImputer(),\n",
    "    StandardScaler()\n",
    ")\n",
    "\n",
    "cat_pipeline = make_pipeline(\n",
    "    SimpleImputer(strategy='most_frequent'), \n",
    "    OneHotEncoder(sparse=False, handle_unknown='ignore')\n",
    ")\n",
    "\n",
    "col_transformer = make_column_transformer(\n",
    "    (num_pipeline, num_features), \n",
    "    (cat_pipeline, cat_features)\n",
    ")"
   ]
  },
  {
   "cell_type": "markdown",
   "id": "99b30c1a",
   "metadata": {},
   "source": [
    "### 3.2 *DataFrames* de treinamento e teste\n",
    "\n",
    "`X_train` é o *DataFrame* de treinamento com os atributos transformados.\n",
    "\n",
    "`X_test` é o *DataFrame* de teste com os atributos transformados."
   ]
  },
  {
   "cell_type": "code",
   "execution_count": 9,
   "id": "c7491c82",
   "metadata": {},
   "outputs": [],
   "source": [
    "X_train = pd.DataFrame(\n",
    "    data=col_transformer.fit_transform(train_data), \n",
    "    index=train_data.index, \n",
    "    columns=col_transformer.get_feature_names_out()\n",
    ")\n",
    "\n",
    "X_test = pd.DataFrame(\n",
    "    data=col_transformer.transform(test_data), \n",
    "    index=test_data.index, \n",
    "    columns=col_transformer.get_feature_names_out()\n",
    ")"
   ]
  },
  {
   "cell_type": "markdown",
   "id": "96eb4f49",
   "metadata": {},
   "source": [
    "---\n",
    "<a name=\"training\"></a>([Voltar ao Índice](#index))\n",
    "\n",
    "## 4. Treinamentos e Validações\n",
    "\n",
    "Técnicas utilizadas para criação dos modelos de regressão:\n",
    " - Random Forest Regressor\n",
    " - Gradient Boosting Regressor\n",
    " - XGB Regressor\n",
    " - Multi-layer Perceptron Regressor\n",
    " \n",
    "Cada modelo será treinado usando a busca exaustiva `grid_search` sobre os valores dos parâmetros em `param_grid`, para obter o melhor resultado dos erros absolutos médios por meio da validação cruzada de 10 subconjuntos.\n",
    "\n",
    "Descrição dos dicionários que serão utilizados:\n",
    " * `scores` guarda os erros absolutos médios de cada modelo.\n",
    " * `models` guarda os modelos com os melhores parâmetros encotrados."
   ]
  },
  {
   "cell_type": "code",
   "execution_count": 10,
   "id": "cf7a0d7e",
   "metadata": {},
   "outputs": [],
   "source": [
    "scores = {}\n",
    "models = {}"
   ]
  },
  {
   "cell_type": "markdown",
   "id": "34e4c8af",
   "metadata": {},
   "source": [
    "### 4.1 Modelo *Random Forest Regressor*\n",
    "\n",
    "Treinando um modelo com *Random Forest Regressor*, que usa o método de *Bagging (bootstrap aggregating)*."
   ]
  },
  {
   "cell_type": "code",
   "execution_count": 11,
   "id": "7351445f",
   "metadata": {},
   "outputs": [
    {
     "data": {
      "text/plain": [
       "{'n_estimators': 2600}"
      ]
     },
     "execution_count": 11,
     "metadata": {},
     "output_type": "execute_result"
    }
   ],
   "source": [
    "param_grid = {\n",
    "    'n_estimators': [2500, 2600, 2700],\n",
    "}\n",
    "\n",
    "grid_search = GridSearchCV(\n",
    "    estimator=RandomForestRegressor(random_state=0),\n",
    "    param_grid=param_grid,\n",
    "    scoring='neg_mean_absolute_error',\n",
    "    n_jobs=-1,\n",
    "    cv=10\n",
    ")\n",
    "\n",
    "submission['SalePrice'] = grid_search.fit(X_train, y_train).predict(X_test)\n",
    "submission.to_csv('submission/rf_regressor.csv', index=False)\n",
    "\n",
    "scores['Random Forest Regressor'] = -grid_search.best_score_\n",
    "models['Random Forest Regressor'] = grid_search.best_estimator_\n",
    "grid_search.best_params_"
   ]
  },
  {
   "cell_type": "markdown",
   "id": "6f870836",
   "metadata": {},
   "source": [
    "### 4.2 Modelo *Gradient Boosting Regressor*\n",
    "\n",
    "Modelo com *Gradient Boosting Regressor*, que usa o método de *Boosting (hypothesis boosting)*."
   ]
  },
  {
   "cell_type": "code",
   "execution_count": 12,
   "id": "1cdb0388",
   "metadata": {},
   "outputs": [
    {
     "data": {
      "text/plain": [
       "{'learning_rate': 0.05, 'n_estimators': 400}"
      ]
     },
     "execution_count": 12,
     "metadata": {},
     "output_type": "execute_result"
    }
   ],
   "source": [
    "param_grid = {\n",
    "    'learning_rate': [0.04, 0.05, 0.06],\n",
    "    'n_estimators': [300, 400, 500]\n",
    "}\n",
    "\n",
    "grid_search = GridSearchCV(\n",
    "    estimator=GradientBoostingRegressor(n_iter_no_change=20, random_state=0),\n",
    "    param_grid=param_grid,\n",
    "    scoring='neg_mean_absolute_error',\n",
    "    n_jobs=-1,\n",
    "    cv=10\n",
    ")\n",
    "\n",
    "submission['SalePrice'] = grid_search.fit(X_train, y_train).predict(X_test)\n",
    "submission.to_csv('submission/gb_regressor.csv', index=False)\n",
    "\n",
    "scores['Gradient Boosting Regressor'] = -grid_search.best_score_\n",
    "models['Gradient Boosting Regressor'] = grid_search.best_estimator_\n",
    "grid_search.best_params_"
   ]
  },
  {
   "cell_type": "markdown",
   "id": "318154c5",
   "metadata": {},
   "source": [
    "### 4.2 Modelo *XGB Regressor*\n",
    "\n",
    "Modelo com *XGB Regressor* da biblioteca externa [XGBoost](https://xgboost.readthedocs.io), alternativa para *GB Regressor*.\n",
    "\n",
    "Os *DataFrames* seguintes são utilizados para o treinamento. O modelo usa parâmetro extra para treinamento `fit_params` com um conjunto de *DataFrames* de validação.\n",
    "* `X_train_` é o *DataFrame* de treinamento.\n",
    "* `X_valid_` é o *DataFrame* de validação.\n",
    "* `y_train_` é a *Series* da *Target* de treinamento.\n",
    "* `y_valid_` é a *Series* da *Target* de validação."
   ]
  },
  {
   "cell_type": "code",
   "execution_count": 13,
   "id": "dff51e92",
   "metadata": {},
   "outputs": [
    {
     "data": {
      "text/plain": [
       "{'learning_rate': 0.05, 'n_estimators': 300}"
      ]
     },
     "execution_count": 13,
     "metadata": {},
     "output_type": "execute_result"
    }
   ],
   "source": [
    "X_train_, X_valid_, y_train_, y_valid_ = train_test_split(X_train, y_train, test_size=0.1, random_state=0)\n",
    "\n",
    "param_grid = {\n",
    "    'learning_rate': [0.04, 0.05, 0.06],\n",
    "    'n_estimators': [250, 300, 350]\n",
    "}\n",
    "\n",
    "grid_search = GridSearchCV(\n",
    "    estimator=XGBRegressor(eval_metric='mae', early_stopping_rounds=20, random_state=0),\n",
    "    param_grid=param_grid,\n",
    "    scoring='neg_mean_absolute_error',\n",
    "    n_jobs=-1,\n",
    "    cv=10\n",
    ")\n",
    "\n",
    "fit_params = {\n",
    "    'eval_set': [(X_valid_, y_valid_)],\n",
    "    'verbose': False\n",
    "}\n",
    "\n",
    "submission['SalePrice'] = grid_search.fit(X_train_, y_train_, **fit_params).predict(X_test)\n",
    "submission.to_csv('submission/xgb_regressor.csv', index=False)\n",
    "\n",
    "scores['XGB Regressor'] = -grid_search.best_score_\n",
    "models['XGB Regressor'] = grid_search.best_estimator_\n",
    "grid_search.best_params_"
   ]
  },
  {
   "cell_type": "markdown",
   "id": "1968823b",
   "metadata": {},
   "source": [
    "### 4.3 Modelo *Multi-layer Perceptron Regressor*\n",
    "\n",
    "A função `model` retorna uma rede neural com número de entradas `input_shape`, número de camdas ocultas `n_hidden` e número de neurônios `n_neurons` para cada camada."
   ]
  },
  {
   "cell_type": "code",
   "execution_count": 14,
   "id": "41b1dbf1",
   "metadata": {},
   "outputs": [
    {
     "name": "stderr",
     "output_type": "stream",
     "text": [
      "2022-08-06 20:43:06.536698: I tensorflow/core/platform/cpu_feature_guard.cc:151] This TensorFlow binary is optimized with oneAPI Deep Neural Network Library (oneDNN) to use the following CPU instructions in performance-critical operations:  SSE4.1 SSE4.2 AVX AVX2 FMA\n",
      "To enable them in other operations, rebuild TensorFlow with the appropriate compiler flags.\n"
     ]
    },
    {
     "name": "stdout",
     "output_type": "stream",
     "text": [
      "WARNING:tensorflow:5 out of the last 5 calls to <function Model.make_predict_function.<locals>.predict_function at 0x7fefce5c12d0> triggered tf.function retracing. Tracing is expensive and the excessive number of tracings could be due to (1) creating @tf.function repeatedly in a loop, (2) passing tensors with different shapes, (3) passing Python objects instead of tensors. For (1), please define your @tf.function outside of the loop. For (2), @tf.function has experimental_relax_shapes=True option that relaxes argument shapes that can avoid unnecessary retracing. For (3), please refer to https://www.tensorflow.org/guide/function#controlling_retracing and https://www.tensorflow.org/api_docs/python/tf/function for  more details.\n",
      "WARNING:tensorflow:6 out of the last 6 calls to <function Model.make_predict_function.<locals>.predict_function at 0x7fefce5c3490> triggered tf.function retracing. Tracing is expensive and the excessive number of tracings could be due to (1) creating @tf.function repeatedly in a loop, (2) passing tensors with different shapes, (3) passing Python objects instead of tensors. For (1), please define your @tf.function outside of the loop. For (2), @tf.function has experimental_relax_shapes=True option that relaxes argument shapes that can avoid unnecessary retracing. For (3), please refer to https://www.tensorflow.org/guide/function#controlling_retracing and https://www.tensorflow.org/api_docs/python/tf/function for  more details.\n"
     ]
    },
    {
     "name": "stderr",
     "output_type": "stream",
     "text": [
      "2022-08-06 20:56:54.244077: W tensorflow/core/data/root_dataset.cc:200] Optimization loop failed: CANCELLED: Operation was cancelled\n",
      "2022-08-06 21:49:08.967628: W tensorflow/core/data/root_dataset.cc:200] Optimization loop failed: CANCELLED: Operation was cancelled\n"
     ]
    },
    {
     "data": {
      "text/plain": [
       "{'batch_size': 200,\n",
       " 'epochs': 100,\n",
       " 'model__n_hidden': 6,\n",
       " 'model__n_neurons': 150}"
      ]
     },
     "execution_count": 14,
     "metadata": {},
     "output_type": "execute_result"
    }
   ],
   "source": [
    "def model(input_shape, n_hidden, n_neurons):\n",
    "    model = Sequential([InputLayer(input_shape=[input_shape])])\n",
    "    for layer in range(n_hidden):\n",
    "        model.add(Dense(units=n_neurons, activation='relu'))\n",
    "    model.add(Dense(units=1, activation='relu'))\n",
    "    return model\n",
    "\n",
    "estimator = KerasRegressor(\n",
    "    model=model, \n",
    "    model__input_shape=len(X_train.columns), \n",
    "    optimizer='adam', \n",
    "    loss='mae', \n",
    "    validation_split=0.1,\n",
    "    callbacks=[EarlyStopping(min_delta=0.001, patience=20, restore_best_weights=True)],\n",
    "    verbose=0,\n",
    "    random_state=0\n",
    ")\n",
    "\n",
    "param_grid = {\n",
    "    'model__n_hidden': [5, 6, 7],\n",
    "    'model__n_neurons': [140, 150, 160],\n",
    "    'batch_size': [190, 200, 210],\n",
    "    'epochs': [90, 100, 110]\n",
    "}\n",
    "\n",
    "grid_search = GridSearchCV(\n",
    "    estimator=estimator,\n",
    "    param_grid=param_grid,\n",
    "    scoring='neg_mean_absolute_error',\n",
    "    cv=10\n",
    ")\n",
    "\n",
    "submission['SalePrice'] = grid_search.fit(X_train, y_train).predict(X_test)\n",
    "submission.to_csv('submission/mlp_regressor.csv', index=False)\n",
    "\n",
    "scores['MLP Regressor'] = -grid_search.best_score_\n",
    "models['MLP Regressor'] = grid_search.best_estimator_\n",
    "grid_search.best_params_"
   ]
  },
  {
   "cell_type": "markdown",
   "id": "b158177d",
   "metadata": {},
   "source": [
    "---\n",
    "<a name=\"results\"></a>([Voltar ao Índice](#index))\n",
    "\n",
    "## 5. Resultados e Conclusão"
   ]
  },
  {
   "cell_type": "markdown",
   "id": "9e4ac5c1",
   "metadata": {},
   "source": [
    "### 5.1 Visualização dos resultados\n",
    "\n",
    "Resultados dos erros absolutos médios dos modelos:\n",
    "- O modelo treinado com *Multi-layer Perceptron Regressor* possui o melhor resultado.\n",
    "- O modelo treinado com *Random Forest Regressor* possui o pior resultado."
   ]
  },
  {
   "cell_type": "code",
   "execution_count": 15,
   "id": "42bc74ec",
   "metadata": {},
   "outputs": [
    {
     "data": {
      "image/png": "[encoded data removed]",
      "text/plain": [
       "<Figure size 432x288 with 1 Axes>"
      ]
     },
     "metadata": {
      "needs_background": "light"
     },
     "output_type": "display_data"
    }
   ],
   "source": [
    "ax = pd.Series(scores).plot.barh(title='Mean Absolute Error (lower is better)')\n",
    "ax.bar_label(ax.containers[0], label_type='center', color='white')\n",
    "plt.show()"
   ]
  },
  {
   "cell_type": "markdown",
   "id": "e9a8c46c",
   "metadata": {},
   "source": [
    "### 5.2 Submissão Final\n",
    "\n",
    "A submissão final para a competição é através da média das predições dos 3 melhores modelos, com resultado final: **13161.99448**."
   ]
  },
  {
   "cell_type": "code",
   "execution_count": 16,
   "id": "652d84b6",
   "metadata": {},
   "outputs": [
    {
     "name": "stderr",
     "output_type": "stream",
     "text": [
      "2022-08-06 21:58:36.034834: W tensorflow/python/util/util.cc:368] Sets are not currently considered sequences, but this may change in the future, so consider avoiding using them.\n"
     ]
    },
    {
     "name": "stdout",
     "output_type": "stream",
     "text": [
      "INFO:tensorflow:Assets written to: ram:///tmp/tmpc0zclos_/assets\n"
     ]
    }
   ],
   "source": [
    "estimator = VotingRegressor(estimators=[\n",
    "    ('gbr', models['Gradient Boosting Regressor']),\n",
    "    ('xgb', models['XGB Regressor'].set_params(**{'early_stopping_rounds': None})),\n",
    "    ('mlp', models['MLP Regressor'])\n",
    "])\n",
    "\n",
    "submission['SalePrice'] = estimator.fit(X_train, y_train).predict(X_test)\n",
    "submission.to_csv('submission/voting_regressor.csv', index=False)"
   ]
  }
 ],
 "metadata": {
  "kernelspec": {
   "display_name": "Python 3 (ipykernel)",
   "language": "python",
   "name": "python3"
  },
  "language_info": {
   "codemirror_mode": {
    "name": "ipython",
    "version": 3
   },
   "file_extension": ".py",
   "mimetype": "text/x-python",
   "name": "python",
   "nbconvert_exporter": "python",
   "pygments_lexer": "ipython3",
   "version": "3.10.5"
  }
 },
 "nbformat": 4,
 "nbformat_minor": 5
}
